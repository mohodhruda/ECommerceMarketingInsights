{
 "cells": [
  {
   "cell_type": "code",
   "execution_count": 1,
   "metadata": {},
   "outputs": [],
   "source": [
    "import pandas as pd\n",
    "import matplotlib.pyplot as plt\n",
    "%matplotlib inline\n",
    "\n",
    "from time import time\n",
    "from datetime import datetime, date\n",
    "import os"
   ]
  },
  {
   "cell_type": "code",
   "execution_count": 2,
   "metadata": {},
   "outputs": [],
   "source": [
    "os.chdir(r'N:\\ALGORITHMIC MARKETING\\ASSIGNMENTS\\Assignment 2\\Algo Marketing Assignment 2\\ecommerce-behavior-data-from-multi-category-store')"
   ]
  },
  {
   "cell_type": "code",
   "execution_count": 3,
   "metadata": {},
   "outputs": [],
   "source": [
    "df_nov = pd.read_csv('2019-Nov.csv')"
   ]
  },
  {
   "cell_type": "code",
   "execution_count": 4,
   "metadata": {},
   "outputs": [
    {
     "data": {
      "text/html": [
       "<div>\n",
       "<style scoped>\n",
       "    .dataframe tbody tr th:only-of-type {\n",
       "        vertical-align: middle;\n",
       "    }\n",
       "\n",
       "    .dataframe tbody tr th {\n",
       "        vertical-align: top;\n",
       "    }\n",
       "\n",
       "    .dataframe thead th {\n",
       "        text-align: right;\n",
       "    }\n",
       "</style>\n",
       "<table border=\"1\" class=\"dataframe\">\n",
       "  <thead>\n",
       "    <tr style=\"text-align: right;\">\n",
       "      <th></th>\n",
       "      <th>event_time</th>\n",
       "      <th>event_type</th>\n",
       "      <th>product_id</th>\n",
       "      <th>category_id</th>\n",
       "      <th>category_code</th>\n",
       "      <th>brand</th>\n",
       "      <th>price</th>\n",
       "      <th>user_id</th>\n",
       "      <th>user_session</th>\n",
       "    </tr>\n",
       "  </thead>\n",
       "  <tbody>\n",
       "    <tr>\n",
       "      <th>0</th>\n",
       "      <td>2019-11-01 00:00:00 UTC</td>\n",
       "      <td>view</td>\n",
       "      <td>1003461</td>\n",
       "      <td>2053013555631882655</td>\n",
       "      <td>electronics.smartphone</td>\n",
       "      <td>xiaomi</td>\n",
       "      <td>489.07</td>\n",
       "      <td>520088904</td>\n",
       "      <td>4d3b30da-a5e4-49df-b1a8-ba5943f1dd33</td>\n",
       "    </tr>\n",
       "    <tr>\n",
       "      <th>1</th>\n",
       "      <td>2019-11-01 00:00:00 UTC</td>\n",
       "      <td>view</td>\n",
       "      <td>5000088</td>\n",
       "      <td>2053013566100866035</td>\n",
       "      <td>appliances.sewing_machine</td>\n",
       "      <td>janome</td>\n",
       "      <td>293.65</td>\n",
       "      <td>530496790</td>\n",
       "      <td>8e5f4f83-366c-4f70-860e-ca7417414283</td>\n",
       "    </tr>\n",
       "    <tr>\n",
       "      <th>2</th>\n",
       "      <td>2019-11-01 00:00:01 UTC</td>\n",
       "      <td>view</td>\n",
       "      <td>17302664</td>\n",
       "      <td>2053013553853497655</td>\n",
       "      <td>NaN</td>\n",
       "      <td>creed</td>\n",
       "      <td>28.31</td>\n",
       "      <td>561587266</td>\n",
       "      <td>755422e7-9040-477b-9bd2-6a6e8fd97387</td>\n",
       "    </tr>\n",
       "    <tr>\n",
       "      <th>3</th>\n",
       "      <td>2019-11-01 00:00:01 UTC</td>\n",
       "      <td>view</td>\n",
       "      <td>3601530</td>\n",
       "      <td>2053013563810775923</td>\n",
       "      <td>appliances.kitchen.washer</td>\n",
       "      <td>lg</td>\n",
       "      <td>712.87</td>\n",
       "      <td>518085591</td>\n",
       "      <td>3bfb58cd-7892-48cc-8020-2f17e6de6e7f</td>\n",
       "    </tr>\n",
       "    <tr>\n",
       "      <th>4</th>\n",
       "      <td>2019-11-01 00:00:01 UTC</td>\n",
       "      <td>view</td>\n",
       "      <td>1004775</td>\n",
       "      <td>2053013555631882655</td>\n",
       "      <td>electronics.smartphone</td>\n",
       "      <td>xiaomi</td>\n",
       "      <td>183.27</td>\n",
       "      <td>558856683</td>\n",
       "      <td>313628f1-68b8-460d-84f6-cec7a8796ef2</td>\n",
       "    </tr>\n",
       "  </tbody>\n",
       "</table>\n",
       "</div>"
      ],
      "text/plain": [
       "                event_time event_type  product_id          category_id  \\\n",
       "0  2019-11-01 00:00:00 UTC       view     1003461  2053013555631882655   \n",
       "1  2019-11-01 00:00:00 UTC       view     5000088  2053013566100866035   \n",
       "2  2019-11-01 00:00:01 UTC       view    17302664  2053013553853497655   \n",
       "3  2019-11-01 00:00:01 UTC       view     3601530  2053013563810775923   \n",
       "4  2019-11-01 00:00:01 UTC       view     1004775  2053013555631882655   \n",
       "\n",
       "               category_code   brand   price    user_id  \\\n",
       "0     electronics.smartphone  xiaomi  489.07  520088904   \n",
       "1  appliances.sewing_machine  janome  293.65  530496790   \n",
       "2                        NaN   creed   28.31  561587266   \n",
       "3  appliances.kitchen.washer      lg  712.87  518085591   \n",
       "4     electronics.smartphone  xiaomi  183.27  558856683   \n",
       "\n",
       "                           user_session  \n",
       "0  4d3b30da-a5e4-49df-b1a8-ba5943f1dd33  \n",
       "1  8e5f4f83-366c-4f70-860e-ca7417414283  \n",
       "2  755422e7-9040-477b-9bd2-6a6e8fd97387  \n",
       "3  3bfb58cd-7892-48cc-8020-2f17e6de6e7f  \n",
       "4  313628f1-68b8-460d-84f6-cec7a8796ef2  "
      ]
     },
     "execution_count": 4,
     "metadata": {},
     "output_type": "execute_result"
    }
   ],
   "source": [
    "df_nov.head()"
   ]
  },
  {
   "cell_type": "code",
   "execution_count": null,
   "metadata": {},
   "outputs": [],
   "source": []
  },
  {
   "cell_type": "code",
   "execution_count": 5,
   "metadata": {},
   "outputs": [
    {
     "data": {
      "text/html": [
       "<div>\n",
       "<style scoped>\n",
       "    .dataframe tbody tr th:only-of-type {\n",
       "        vertical-align: middle;\n",
       "    }\n",
       "\n",
       "    .dataframe tbody tr th {\n",
       "        vertical-align: top;\n",
       "    }\n",
       "\n",
       "    .dataframe thead th {\n",
       "        text-align: right;\n",
       "    }\n",
       "</style>\n",
       "<table border=\"1\" class=\"dataframe\">\n",
       "  <thead>\n",
       "    <tr style=\"text-align: right;\">\n",
       "      <th></th>\n",
       "      <th>event_time</th>\n",
       "      <th>event_type</th>\n",
       "      <th>product_id</th>\n",
       "      <th>category_id</th>\n",
       "      <th>category_code</th>\n",
       "      <th>brand</th>\n",
       "      <th>price</th>\n",
       "      <th>user_id</th>\n",
       "      <th>user_session</th>\n",
       "    </tr>\n",
       "  </thead>\n",
       "  <tbody>\n",
       "    <tr>\n",
       "      <th>107</th>\n",
       "      <td>2019-11-01 00:00:41 UTC</td>\n",
       "      <td>purchase</td>\n",
       "      <td>13200605</td>\n",
       "      <td>2053013557192163841</td>\n",
       "      <td>furniture.bedroom.bed</td>\n",
       "      <td>NaN</td>\n",
       "      <td>566.30</td>\n",
       "      <td>559368633</td>\n",
       "      <td>d6034fa2-41fb-4ac0-9051-55ea9fc9147a</td>\n",
       "    </tr>\n",
       "    <tr>\n",
       "      <th>168</th>\n",
       "      <td>2019-11-01 00:01:04 UTC</td>\n",
       "      <td>purchase</td>\n",
       "      <td>1005161</td>\n",
       "      <td>2053013555631882655</td>\n",
       "      <td>electronics.smartphone</td>\n",
       "      <td>xiaomi</td>\n",
       "      <td>211.92</td>\n",
       "      <td>513351129</td>\n",
       "      <td>e6b7ce9b-1938-4e20-976c-8b4163aea11d</td>\n",
       "    </tr>\n",
       "    <tr>\n",
       "      <th>707</th>\n",
       "      <td>2019-11-01 00:04:51 UTC</td>\n",
       "      <td>purchase</td>\n",
       "      <td>1004856</td>\n",
       "      <td>2053013555631882655</td>\n",
       "      <td>electronics.smartphone</td>\n",
       "      <td>samsung</td>\n",
       "      <td>128.42</td>\n",
       "      <td>562958505</td>\n",
       "      <td>0f039697-fedc-40fa-8830-39c1a024351d</td>\n",
       "    </tr>\n",
       "    <tr>\n",
       "      <th>811</th>\n",
       "      <td>2019-11-01 00:05:34 UTC</td>\n",
       "      <td>purchase</td>\n",
       "      <td>26401669</td>\n",
       "      <td>2053013563651392361</td>\n",
       "      <td>NaN</td>\n",
       "      <td>lucente</td>\n",
       "      <td>109.66</td>\n",
       "      <td>541854711</td>\n",
       "      <td>c41c44d5-ef9b-41b9-9cd6-8d96dda6e927</td>\n",
       "    </tr>\n",
       "    <tr>\n",
       "      <th>939</th>\n",
       "      <td>2019-11-01 00:06:33 UTC</td>\n",
       "      <td>purchase</td>\n",
       "      <td>1801881</td>\n",
       "      <td>2053013554415534427</td>\n",
       "      <td>electronics.video.tv</td>\n",
       "      <td>samsung</td>\n",
       "      <td>488.80</td>\n",
       "      <td>557746614</td>\n",
       "      <td>4d76d6d3-fff5-4880-8327-e9e57b618e0e</td>\n",
       "    </tr>\n",
       "    <tr>\n",
       "      <th>...</th>\n",
       "      <td>...</td>\n",
       "      <td>...</td>\n",
       "      <td>...</td>\n",
       "      <td>...</td>\n",
       "      <td>...</td>\n",
       "      <td>...</td>\n",
       "      <td>...</td>\n",
       "      <td>...</td>\n",
       "      <td>...</td>\n",
       "    </tr>\n",
       "    <tr>\n",
       "      <th>67501725</th>\n",
       "      <td>2019-11-30 23:58:14 UTC</td>\n",
       "      <td>purchase</td>\n",
       "      <td>1004874</td>\n",
       "      <td>2053013555631882655</td>\n",
       "      <td>electronics.smartphone</td>\n",
       "      <td>samsung</td>\n",
       "      <td>346.70</td>\n",
       "      <td>547804983</td>\n",
       "      <td>717566cf-ef93-4078-ba8f-169a3ac9f1a0</td>\n",
       "    </tr>\n",
       "    <tr>\n",
       "      <th>67501745</th>\n",
       "      <td>2019-11-30 23:58:22 UTC</td>\n",
       "      <td>purchase</td>\n",
       "      <td>1005130</td>\n",
       "      <td>2053013555631882655</td>\n",
       "      <td>electronics.smartphone</td>\n",
       "      <td>apple</td>\n",
       "      <td>1437.02</td>\n",
       "      <td>515582054</td>\n",
       "      <td>829c20b5-696e-4a8a-8a9f-171014a3ecbe</td>\n",
       "    </tr>\n",
       "    <tr>\n",
       "      <th>67501824</th>\n",
       "      <td>2019-11-30 23:58:57 UTC</td>\n",
       "      <td>purchase</td>\n",
       "      <td>1004767</td>\n",
       "      <td>2053013555631882655</td>\n",
       "      <td>electronics.smartphone</td>\n",
       "      <td>samsung</td>\n",
       "      <td>235.60</td>\n",
       "      <td>579876821</td>\n",
       "      <td>ca50e291-43f3-4ca2-9e13-20ee6b8b25f0</td>\n",
       "    </tr>\n",
       "    <tr>\n",
       "      <th>67501863</th>\n",
       "      <td>2019-11-30 23:59:15 UTC</td>\n",
       "      <td>purchase</td>\n",
       "      <td>3701309</td>\n",
       "      <td>2053013565983425517</td>\n",
       "      <td>appliances.environment.vacuum</td>\n",
       "      <td>polaris</td>\n",
       "      <td>89.32</td>\n",
       "      <td>543733099</td>\n",
       "      <td>a65116f4-ac53-4a41-ad68-6606788e674c</td>\n",
       "    </tr>\n",
       "    <tr>\n",
       "      <th>67501944</th>\n",
       "      <td>2019-11-30 23:59:44 UTC</td>\n",
       "      <td>purchase</td>\n",
       "      <td>26205399</td>\n",
       "      <td>2053013563693335403</td>\n",
       "      <td>NaN</td>\n",
       "      <td>NaN</td>\n",
       "      <td>179.16</td>\n",
       "      <td>553345124</td>\n",
       "      <td>58c692ff-c7a9-4e35-9ec4-58598f1940e0</td>\n",
       "    </tr>\n",
       "  </tbody>\n",
       "</table>\n",
       "<p>916939 rows × 9 columns</p>\n",
       "</div>"
      ],
      "text/plain": [
       "                       event_time event_type  product_id          category_id  \\\n",
       "107       2019-11-01 00:00:41 UTC   purchase    13200605  2053013557192163841   \n",
       "168       2019-11-01 00:01:04 UTC   purchase     1005161  2053013555631882655   \n",
       "707       2019-11-01 00:04:51 UTC   purchase     1004856  2053013555631882655   \n",
       "811       2019-11-01 00:05:34 UTC   purchase    26401669  2053013563651392361   \n",
       "939       2019-11-01 00:06:33 UTC   purchase     1801881  2053013554415534427   \n",
       "...                           ...        ...         ...                  ...   \n",
       "67501725  2019-11-30 23:58:14 UTC   purchase     1004874  2053013555631882655   \n",
       "67501745  2019-11-30 23:58:22 UTC   purchase     1005130  2053013555631882655   \n",
       "67501824  2019-11-30 23:58:57 UTC   purchase     1004767  2053013555631882655   \n",
       "67501863  2019-11-30 23:59:15 UTC   purchase     3701309  2053013565983425517   \n",
       "67501944  2019-11-30 23:59:44 UTC   purchase    26205399  2053013563693335403   \n",
       "\n",
       "                          category_code    brand    price    user_id  \\\n",
       "107               furniture.bedroom.bed      NaN   566.30  559368633   \n",
       "168              electronics.smartphone   xiaomi   211.92  513351129   \n",
       "707              electronics.smartphone  samsung   128.42  562958505   \n",
       "811                                 NaN  lucente   109.66  541854711   \n",
       "939                electronics.video.tv  samsung   488.80  557746614   \n",
       "...                                 ...      ...      ...        ...   \n",
       "67501725         electronics.smartphone  samsung   346.70  547804983   \n",
       "67501745         electronics.smartphone    apple  1437.02  515582054   \n",
       "67501824         electronics.smartphone  samsung   235.60  579876821   \n",
       "67501863  appliances.environment.vacuum  polaris    89.32  543733099   \n",
       "67501944                            NaN      NaN   179.16  553345124   \n",
       "\n",
       "                                  user_session  \n",
       "107       d6034fa2-41fb-4ac0-9051-55ea9fc9147a  \n",
       "168       e6b7ce9b-1938-4e20-976c-8b4163aea11d  \n",
       "707       0f039697-fedc-40fa-8830-39c1a024351d  \n",
       "811       c41c44d5-ef9b-41b9-9cd6-8d96dda6e927  \n",
       "939       4d76d6d3-fff5-4880-8327-e9e57b618e0e  \n",
       "...                                        ...  \n",
       "67501725  717566cf-ef93-4078-ba8f-169a3ac9f1a0  \n",
       "67501745  829c20b5-696e-4a8a-8a9f-171014a3ecbe  \n",
       "67501824  ca50e291-43f3-4ca2-9e13-20ee6b8b25f0  \n",
       "67501863  a65116f4-ac53-4a41-ad68-6606788e674c  \n",
       "67501944  58c692ff-c7a9-4e35-9ec4-58598f1940e0  \n",
       "\n",
       "[916939 rows x 9 columns]"
      ]
     },
     "execution_count": 5,
     "metadata": {},
     "output_type": "execute_result"
    }
   ],
   "source": [
    "#looking at only the cases where purchases were made\n",
    "purchases = df_nov[df_nov.event_type.eq('purchase')]\n",
    "purchases"
   ]
  },
  {
   "cell_type": "code",
   "execution_count": 17,
   "metadata": {},
   "outputs": [],
   "source": [
    "top_brands = purchases.groupby('brand')['price'].sum()\n",
    "top_brands = top_brands.sort_values(ascending= False)\n",
    "top_brands = top_brands[:60]"
   ]
  },
  {
   "cell_type": "code",
   "execution_count": 18,
   "metadata": {},
   "outputs": [
    {
     "data": {
      "text/plain": [
       "Index(['apple', 'samsung', 'xiaomi', 'lg', 'huawei', 'sony', 'lucente', 'oppo',\n",
       "       'acer', 'lenovo', 'bosch', 'asus', 'artel', 'hp', 'indesit', 'haier',\n",
       "       'beko', 'dauscher', 'cordiant', 'philips', 'midea', 'vivo', 'canon',\n",
       "       'janome', 'tefal', 'nokian', 'pulser', 'starline', 'respect', 'kivi',\n",
       "       'hansa', 'redmond', 'karcher', 'oneplus', 'sv', 'epson', 'tcl',\n",
       "       'navien', 'sokolov', 'casio', 'atlant', 'brw', 'yamaha', 'meizu',\n",
       "       'stels', 'arg', 'thomas', 'msi', 'viatti', 'yokohama', 'ariston',\n",
       "       'braun', 'triangle', 'vitek', 'nokia', 'delonghi', 'electrolux', 'bts',\n",
       "       'force', 'huter'],\n",
       "      dtype='object', name='brand')"
      ]
     },
     "execution_count": 18,
     "metadata": {},
     "output_type": "execute_result"
    }
   ],
   "source": [
    "top_brands.keys()"
   ]
  },
  {
   "cell_type": "code",
   "execution_count": 19,
   "metadata": {},
   "outputs": [
    {
     "data": {
      "text/plain": [
       "(38691224, 9)"
      ]
     },
     "execution_count": 19,
     "metadata": {},
     "output_type": "execute_result"
    }
   ],
   "source": [
    "novdf = df_nov[df_nov.brand.isin(top_brands.keys())]\n",
    "novdf.shape"
   ]
  },
  {
   "cell_type": "code",
   "execution_count": 20,
   "metadata": {},
   "outputs": [
    {
     "data": {
      "text/plain": [
       "event_time             0\n",
       "event_type             0\n",
       "product_id             0\n",
       "category_id            0\n",
       "category_code    6778735\n",
       "brand                  0\n",
       "price                  0\n",
       "user_id                0\n",
       "user_session           4\n",
       "dtype: int64"
      ]
     },
     "execution_count": 20,
     "metadata": {},
     "output_type": "execute_result"
    }
   ],
   "source": [
    "novdf.isnull().sum()"
   ]
  },
  {
   "cell_type": "code",
   "execution_count": 21,
   "metadata": {
    "scrolled": true
   },
   "outputs": [
    {
     "data": {
      "text/plain": [
       "brand\n",
       "acer          4.389234e+08\n",
       "apple         5.171552e+09\n",
       "arg           1.455806e+07\n",
       "ariston       1.509168e+07\n",
       "artel         1.178898e+08\n",
       "asus          2.915952e+08\n",
       "atlant        3.926063e+07\n",
       "beko          7.601834e+07\n",
       "bosch         2.698454e+08\n",
       "braun         2.192310e+07\n",
       "brw           8.250913e+07\n",
       "bts           4.815225e+07\n",
       "canon         6.827892e+07\n",
       "casio         4.938243e+07\n",
       "cordiant      3.123747e+07\n",
       "dauscher      9.686998e+07\n",
       "delonghi      3.177416e+07\n",
       "electrolux    5.007122e+07\n",
       "epson         2.684737e+07\n",
       "force         2.394182e+07\n",
       "haier         9.050695e+07\n",
       "hansa         5.272588e+07\n",
       "hp            2.542012e+08\n",
       "huawei        3.722279e+08\n",
       "huter         2.581579e+07\n",
       "indesit       1.120880e+08\n",
       "janome        5.519420e+07\n",
       "karcher       4.686635e+07\n",
       "kivi          2.317747e+07\n",
       "lenovo        4.075058e+08\n",
       "lg            5.161430e+08\n",
       "lucente       2.864295e+08\n",
       "meizu         3.174386e+07\n",
       "midea         5.983687e+07\n",
       "msi           5.925307e+07\n",
       "navien        1.889516e+07\n",
       "nokia         3.088677e+07\n",
       "nokian        2.220727e+07\n",
       "oneplus       7.627174e+07\n",
       "oppo          2.435520e+08\n",
       "philips       7.717041e+07\n",
       "pulser        9.948857e+07\n",
       "redmond       3.836162e+07\n",
       "respect       6.159722e+07\n",
       "samsung       2.809490e+09\n",
       "sokolov       4.601074e+07\n",
       "sony          3.528031e+08\n",
       "starline      3.245871e+07\n",
       "stels         2.331749e+07\n",
       "sv            8.051890e+07\n",
       "tcl           2.519243e+07\n",
       "tefal         4.526363e+07\n",
       "thomas        2.763908e+07\n",
       "triangle      1.022931e+07\n",
       "viatti        1.122088e+07\n",
       "vitek         1.926200e+07\n",
       "vivo          5.085913e+07\n",
       "xiaomi        9.450350e+08\n",
       "yamaha        3.343412e+07\n",
       "yokohama      1.198589e+07\n",
       "Name: price, dtype: float64"
      ]
     },
     "execution_count": 21,
     "metadata": {},
     "output_type": "execute_result"
    }
   ],
   "source": [
    "novdf.groupby('brand')['price'].sum()"
   ]
  },
  {
   "cell_type": "code",
   "execution_count": 22,
   "metadata": {},
   "outputs": [],
   "source": [
    "df_nov1 = novdf"
   ]
  },
  {
   "cell_type": "code",
   "execution_count": 23,
   "metadata": {},
   "outputs": [],
   "source": [
    "def fast_mode(df, key_cols, value_col):\n",
    "\n",
    "    return (df.groupby(key_cols + [value_col]).size() \n",
    "                  .to_frame('counts').reset_index() \n",
    "                  .sort_values('counts', ascending=False) \n",
    "                  .drop_duplicates(subset=key_cols)).drop(columns='counts')"
   ]
  },
  {
   "cell_type": "code",
   "execution_count": 24,
   "metadata": {},
   "outputs": [
    {
     "name": "stderr",
     "output_type": "stream",
     "text": [
      "C:\\Users\\nikhi\\Anaconda3\\lib\\site-packages\\pandas\\core\\indexing.py:494: SettingWithCopyWarning: \n",
      "A value is trying to be set on a copy of a slice from a DataFrame.\n",
      "Try using .loc[row_indexer,col_indexer] = value instead\n",
      "\n",
      "See the caveats in the documentation: http://pandas.pydata.org/pandas-docs/stable/user_guide/indexing.html#returning-a-view-versus-a-copy\n",
      "  self.obj[item] = s\n"
     ]
    }
   ],
   "source": [
    "df_nov1.loc[df_nov1.category_code.isnull(), 'category_code'] = df_nov1.brand.map(fast_mode(df_nov1, ['brand'], 'category_code').set_index('brand').category_code)"
   ]
  },
  {
   "cell_type": "code",
   "execution_count": 25,
   "metadata": {},
   "outputs": [
    {
     "data": {
      "text/plain": [
       "event_time             0\n",
       "event_type             0\n",
       "product_id             0\n",
       "category_id            0\n",
       "category_code    2988541\n",
       "brand                  0\n",
       "price                  0\n",
       "user_id                0\n",
       "user_session           4\n",
       "dtype: int64"
      ]
     },
     "execution_count": 25,
     "metadata": {},
     "output_type": "execute_result"
    }
   ],
   "source": [
    "df_nov1.isnull().sum()"
   ]
  },
  {
   "cell_type": "code",
   "execution_count": 26,
   "metadata": {},
   "outputs": [],
   "source": [
    "df_nov1 = df_nov1.dropna(subset=['user_session', 'category_code'], how='any')"
   ]
  },
  {
   "cell_type": "code",
   "execution_count": 27,
   "metadata": {},
   "outputs": [
    {
     "data": {
      "text/plain": [
       "(35702679, 9)"
      ]
     },
     "execution_count": 27,
     "metadata": {},
     "output_type": "execute_result"
    }
   ],
   "source": [
    "df_nov1.shape"
   ]
  },
  {
   "cell_type": "code",
   "execution_count": 28,
   "metadata": {},
   "outputs": [
    {
     "data": {
      "text/plain": [
       "event_time       0\n",
       "event_type       0\n",
       "product_id       0\n",
       "category_id      0\n",
       "category_code    0\n",
       "brand            0\n",
       "price            0\n",
       "user_id          0\n",
       "user_session     0\n",
       "dtype: int64"
      ]
     },
     "execution_count": 28,
     "metadata": {},
     "output_type": "execute_result"
    }
   ],
   "source": [
    "df_nov1.isna().sum()"
   ]
  },
  {
   "cell_type": "code",
   "execution_count": null,
   "metadata": {},
   "outputs": [],
   "source": [
    "#Remove rows where both the columns are NA\n",
    "#df_oct1 = df_oct.dropna(subset=['brand', 'category_code'], how='all')\n",
    "#df.dropna(subset=['EPS'], how='all', inplace=True)"
   ]
  },
  {
   "cell_type": "code",
   "execution_count": 22,
   "metadata": {},
   "outputs": [],
   "source": [
    "#Remove before saving \n",
    "#df_oct2 = df_oct1.iloc[:20000000, :]"
   ]
  },
  {
   "cell_type": "code",
   "execution_count": 23,
   "metadata": {},
   "outputs": [],
   "source": [
    "#df_oct2.head()"
   ]
  },
  {
   "cell_type": "code",
   "execution_count": 29,
   "metadata": {},
   "outputs": [],
   "source": [
    "df_nov1.to_csv('2019_Nov_Sales.csv')"
   ]
  },
  {
   "cell_type": "code",
   "execution_count": null,
   "metadata": {},
   "outputs": [],
   "source": []
  }
 ],
 "metadata": {
  "kernelspec": {
   "display_name": "Python 3",
   "language": "python",
   "name": "python3"
  },
  "language_info": {
   "codemirror_mode": {
    "name": "ipython",
    "version": 3
   },
   "file_extension": ".py",
   "mimetype": "text/x-python",
   "name": "python",
   "nbconvert_exporter": "python",
   "pygments_lexer": "ipython3",
   "version": "3.6.5"
  }
 },
 "nbformat": 4,
 "nbformat_minor": 2
}

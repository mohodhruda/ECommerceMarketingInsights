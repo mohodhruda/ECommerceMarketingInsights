{
 "cells": [
  {
   "cell_type": "code",
   "execution_count": 1,
   "metadata": {},
   "outputs": [],
   "source": [
    "import pandas as pd\n",
    "import matplotlib.pyplot as plt\n",
    "%matplotlib inline\n",
    "\n",
    "from time import time\n",
    "from datetime import datetime, date\n",
    "import os"
   ]
  },
  {
   "cell_type": "code",
   "execution_count": 2,
   "metadata": {},
   "outputs": [],
   "source": [
    "os.chdir(r'N:\\ALGORITHMIC MARKETING\\ASSIGNMENTS\\Assignment 2\\Algo Marketing Assignment 2\\ecommerce-behavior-data-from-multi-category-store')"
   ]
  },
  {
   "cell_type": "code",
   "execution_count": 3,
   "metadata": {},
   "outputs": [],
   "source": [
    "df_oct = pd.read_csv('2019-Oct.csv')"
   ]
  },
  {
   "cell_type": "code",
   "execution_count": 4,
   "metadata": {},
   "outputs": [
    {
     "data": {
      "text/html": [
       "<div>\n",
       "<style scoped>\n",
       "    .dataframe tbody tr th:only-of-type {\n",
       "        vertical-align: middle;\n",
       "    }\n",
       "\n",
       "    .dataframe tbody tr th {\n",
       "        vertical-align: top;\n",
       "    }\n",
       "\n",
       "    .dataframe thead th {\n",
       "        text-align: right;\n",
       "    }\n",
       "</style>\n",
       "<table border=\"1\" class=\"dataframe\">\n",
       "  <thead>\n",
       "    <tr style=\"text-align: right;\">\n",
       "      <th></th>\n",
       "      <th>event_time</th>\n",
       "      <th>event_type</th>\n",
       "      <th>product_id</th>\n",
       "      <th>category_id</th>\n",
       "      <th>category_code</th>\n",
       "      <th>brand</th>\n",
       "      <th>price</th>\n",
       "      <th>user_id</th>\n",
       "      <th>user_session</th>\n",
       "    </tr>\n",
       "  </thead>\n",
       "  <tbody>\n",
       "    <tr>\n",
       "      <th>0</th>\n",
       "      <td>2019-10-01 00:00:00 UTC</td>\n",
       "      <td>view</td>\n",
       "      <td>44600062</td>\n",
       "      <td>2103807459595387724</td>\n",
       "      <td>NaN</td>\n",
       "      <td>shiseido</td>\n",
       "      <td>35.79</td>\n",
       "      <td>541312140</td>\n",
       "      <td>72d76fde-8bb3-4e00-8c23-a032dfed738c</td>\n",
       "    </tr>\n",
       "    <tr>\n",
       "      <th>1</th>\n",
       "      <td>2019-10-01 00:00:00 UTC</td>\n",
       "      <td>view</td>\n",
       "      <td>3900821</td>\n",
       "      <td>2053013552326770905</td>\n",
       "      <td>appliances.environment.water_heater</td>\n",
       "      <td>aqua</td>\n",
       "      <td>33.20</td>\n",
       "      <td>554748717</td>\n",
       "      <td>9333dfbd-b87a-4708-9857-6336556b0fcc</td>\n",
       "    </tr>\n",
       "    <tr>\n",
       "      <th>2</th>\n",
       "      <td>2019-10-01 00:00:01 UTC</td>\n",
       "      <td>view</td>\n",
       "      <td>17200506</td>\n",
       "      <td>2053013559792632471</td>\n",
       "      <td>furniture.living_room.sofa</td>\n",
       "      <td>NaN</td>\n",
       "      <td>543.10</td>\n",
       "      <td>519107250</td>\n",
       "      <td>566511c2-e2e3-422b-b695-cf8e6e792ca8</td>\n",
       "    </tr>\n",
       "    <tr>\n",
       "      <th>3</th>\n",
       "      <td>2019-10-01 00:00:01 UTC</td>\n",
       "      <td>view</td>\n",
       "      <td>1307067</td>\n",
       "      <td>2053013558920217191</td>\n",
       "      <td>computers.notebook</td>\n",
       "      <td>lenovo</td>\n",
       "      <td>251.74</td>\n",
       "      <td>550050854</td>\n",
       "      <td>7c90fc70-0e80-4590-96f3-13c02c18c713</td>\n",
       "    </tr>\n",
       "    <tr>\n",
       "      <th>4</th>\n",
       "      <td>2019-10-01 00:00:04 UTC</td>\n",
       "      <td>view</td>\n",
       "      <td>1004237</td>\n",
       "      <td>2053013555631882655</td>\n",
       "      <td>electronics.smartphone</td>\n",
       "      <td>apple</td>\n",
       "      <td>1081.98</td>\n",
       "      <td>535871217</td>\n",
       "      <td>c6bd7419-2748-4c56-95b4-8cec9ff8b80d</td>\n",
       "    </tr>\n",
       "  </tbody>\n",
       "</table>\n",
       "</div>"
      ],
      "text/plain": [
       "                event_time event_type  product_id          category_id  \\\n",
       "0  2019-10-01 00:00:00 UTC       view    44600062  2103807459595387724   \n",
       "1  2019-10-01 00:00:00 UTC       view     3900821  2053013552326770905   \n",
       "2  2019-10-01 00:00:01 UTC       view    17200506  2053013559792632471   \n",
       "3  2019-10-01 00:00:01 UTC       view     1307067  2053013558920217191   \n",
       "4  2019-10-01 00:00:04 UTC       view     1004237  2053013555631882655   \n",
       "\n",
       "                         category_code     brand    price    user_id  \\\n",
       "0                                  NaN  shiseido    35.79  541312140   \n",
       "1  appliances.environment.water_heater      aqua    33.20  554748717   \n",
       "2           furniture.living_room.sofa       NaN   543.10  519107250   \n",
       "3                   computers.notebook    lenovo   251.74  550050854   \n",
       "4               electronics.smartphone     apple  1081.98  535871217   \n",
       "\n",
       "                           user_session  \n",
       "0  72d76fde-8bb3-4e00-8c23-a032dfed738c  \n",
       "1  9333dfbd-b87a-4708-9857-6336556b0fcc  \n",
       "2  566511c2-e2e3-422b-b695-cf8e6e792ca8  \n",
       "3  7c90fc70-0e80-4590-96f3-13c02c18c713  \n",
       "4  c6bd7419-2748-4c56-95b4-8cec9ff8b80d  "
      ]
     },
     "execution_count": 4,
     "metadata": {},
     "output_type": "execute_result"
    }
   ],
   "source": [
    "df_oct.head()"
   ]
  },
  {
   "cell_type": "code",
   "execution_count": null,
   "metadata": {},
   "outputs": [],
   "source": []
  },
  {
   "cell_type": "code",
   "execution_count": 5,
   "metadata": {},
   "outputs": [
    {
     "data": {
      "text/html": [
       "<div>\n",
       "<style scoped>\n",
       "    .dataframe tbody tr th:only-of-type {\n",
       "        vertical-align: middle;\n",
       "    }\n",
       "\n",
       "    .dataframe tbody tr th {\n",
       "        vertical-align: top;\n",
       "    }\n",
       "\n",
       "    .dataframe thead th {\n",
       "        text-align: right;\n",
       "    }\n",
       "</style>\n",
       "<table border=\"1\" class=\"dataframe\">\n",
       "  <thead>\n",
       "    <tr style=\"text-align: right;\">\n",
       "      <th></th>\n",
       "      <th>event_time</th>\n",
       "      <th>event_type</th>\n",
       "      <th>product_id</th>\n",
       "      <th>category_id</th>\n",
       "      <th>category_code</th>\n",
       "      <th>brand</th>\n",
       "      <th>price</th>\n",
       "      <th>user_id</th>\n",
       "      <th>user_session</th>\n",
       "    </tr>\n",
       "  </thead>\n",
       "  <tbody>\n",
       "    <tr>\n",
       "      <th>162</th>\n",
       "      <td>2019-10-01 00:02:14 UTC</td>\n",
       "      <td>purchase</td>\n",
       "      <td>1004856</td>\n",
       "      <td>2053013555631882655</td>\n",
       "      <td>electronics.smartphone</td>\n",
       "      <td>samsung</td>\n",
       "      <td>130.76</td>\n",
       "      <td>543272936</td>\n",
       "      <td>8187d148-3c41-46d4-b0c0-9c08cd9dc564</td>\n",
       "    </tr>\n",
       "    <tr>\n",
       "      <th>308</th>\n",
       "      <td>2019-10-01 00:04:37 UTC</td>\n",
       "      <td>purchase</td>\n",
       "      <td>1002532</td>\n",
       "      <td>2053013555631882655</td>\n",
       "      <td>electronics.smartphone</td>\n",
       "      <td>apple</td>\n",
       "      <td>642.69</td>\n",
       "      <td>551377651</td>\n",
       "      <td>3c80f0d6-e9ec-4181-8c5c-837a30be2d68</td>\n",
       "    </tr>\n",
       "    <tr>\n",
       "      <th>379</th>\n",
       "      <td>2019-10-01 00:06:02 UTC</td>\n",
       "      <td>purchase</td>\n",
       "      <td>5100816</td>\n",
       "      <td>2053013553375346967</td>\n",
       "      <td>NaN</td>\n",
       "      <td>xiaomi</td>\n",
       "      <td>29.51</td>\n",
       "      <td>514591159</td>\n",
       "      <td>0e5dfc4b-2a55-43e6-8c05-97e1f07fbb56</td>\n",
       "    </tr>\n",
       "    <tr>\n",
       "      <th>442</th>\n",
       "      <td>2019-10-01 00:07:07 UTC</td>\n",
       "      <td>purchase</td>\n",
       "      <td>13800054</td>\n",
       "      <td>2053013557418656265</td>\n",
       "      <td>furniture.bathroom.toilet</td>\n",
       "      <td>santeri</td>\n",
       "      <td>54.42</td>\n",
       "      <td>555332717</td>\n",
       "      <td>1dea3ee2-2ded-42e8-8e7a-4e2ad6ae942f</td>\n",
       "    </tr>\n",
       "    <tr>\n",
       "      <th>574</th>\n",
       "      <td>2019-10-01 00:09:26 UTC</td>\n",
       "      <td>purchase</td>\n",
       "      <td>4804055</td>\n",
       "      <td>2053013554658804075</td>\n",
       "      <td>electronics.audio.headphone</td>\n",
       "      <td>apple</td>\n",
       "      <td>189.91</td>\n",
       "      <td>524601178</td>\n",
       "      <td>2af9b570-0942-4dcd-8f25-4d84fba82553</td>\n",
       "    </tr>\n",
       "    <tr>\n",
       "      <th>...</th>\n",
       "      <td>...</td>\n",
       "      <td>...</td>\n",
       "      <td>...</td>\n",
       "      <td>...</td>\n",
       "      <td>...</td>\n",
       "      <td>...</td>\n",
       "      <td>...</td>\n",
       "      <td>...</td>\n",
       "      <td>...</td>\n",
       "    </tr>\n",
       "    <tr>\n",
       "      <th>42448148</th>\n",
       "      <td>2019-10-31 23:55:13 UTC</td>\n",
       "      <td>purchase</td>\n",
       "      <td>26402784</td>\n",
       "      <td>2053013563651392361</td>\n",
       "      <td>NaN</td>\n",
       "      <td>NaN</td>\n",
       "      <td>102.45</td>\n",
       "      <td>516604399</td>\n",
       "      <td>a98bd433-57ac-42d0-ba81-e18b135a7a16</td>\n",
       "    </tr>\n",
       "    <tr>\n",
       "      <th>42448173</th>\n",
       "      <td>2019-10-31 23:55:21 UTC</td>\n",
       "      <td>purchase</td>\n",
       "      <td>47500017</td>\n",
       "      <td>2110937143172923797</td>\n",
       "      <td>construction.tools.light</td>\n",
       "      <td>puckator</td>\n",
       "      <td>20.59</td>\n",
       "      <td>514622109</td>\n",
       "      <td>5724116e-365b-4ac1-9d03-b8d66e1ccc7c</td>\n",
       "    </tr>\n",
       "    <tr>\n",
       "      <th>42448271</th>\n",
       "      <td>2019-10-31 23:56:03 UTC</td>\n",
       "      <td>purchase</td>\n",
       "      <td>1003306</td>\n",
       "      <td>2053013555631882655</td>\n",
       "      <td>electronics.smartphone</td>\n",
       "      <td>apple</td>\n",
       "      <td>577.89</td>\n",
       "      <td>512717356</td>\n",
       "      <td>f35ac37c-9573-4e30-b3d9-c09bb0b95a2b</td>\n",
       "    </tr>\n",
       "    <tr>\n",
       "      <th>42448362</th>\n",
       "      <td>2019-10-31 23:56:53 UTC</td>\n",
       "      <td>purchase</td>\n",
       "      <td>1004240</td>\n",
       "      <td>2053013555631882655</td>\n",
       "      <td>electronics.smartphone</td>\n",
       "      <td>apple</td>\n",
       "      <td>1054.60</td>\n",
       "      <td>533892594</td>\n",
       "      <td>3a5a3b01-2ab1-4a1d-a202-30d336e0057b</td>\n",
       "    </tr>\n",
       "    <tr>\n",
       "      <th>42448657</th>\n",
       "      <td>2019-10-31 23:59:16 UTC</td>\n",
       "      <td>purchase</td>\n",
       "      <td>4804056</td>\n",
       "      <td>2053013554658804075</td>\n",
       "      <td>electronics.audio.headphone</td>\n",
       "      <td>apple</td>\n",
       "      <td>160.57</td>\n",
       "      <td>544501248</td>\n",
       "      <td>e330d051-37ad-4dc3-b1ee-ff16a28b7998</td>\n",
       "    </tr>\n",
       "  </tbody>\n",
       "</table>\n",
       "<p>742849 rows × 9 columns</p>\n",
       "</div>"
      ],
      "text/plain": [
       "                       event_time event_type  product_id          category_id  \\\n",
       "162       2019-10-01 00:02:14 UTC   purchase     1004856  2053013555631882655   \n",
       "308       2019-10-01 00:04:37 UTC   purchase     1002532  2053013555631882655   \n",
       "379       2019-10-01 00:06:02 UTC   purchase     5100816  2053013553375346967   \n",
       "442       2019-10-01 00:07:07 UTC   purchase    13800054  2053013557418656265   \n",
       "574       2019-10-01 00:09:26 UTC   purchase     4804055  2053013554658804075   \n",
       "...                           ...        ...         ...                  ...   \n",
       "42448148  2019-10-31 23:55:13 UTC   purchase    26402784  2053013563651392361   \n",
       "42448173  2019-10-31 23:55:21 UTC   purchase    47500017  2110937143172923797   \n",
       "42448271  2019-10-31 23:56:03 UTC   purchase     1003306  2053013555631882655   \n",
       "42448362  2019-10-31 23:56:53 UTC   purchase     1004240  2053013555631882655   \n",
       "42448657  2019-10-31 23:59:16 UTC   purchase     4804056  2053013554658804075   \n",
       "\n",
       "                        category_code     brand    price    user_id  \\\n",
       "162            electronics.smartphone   samsung   130.76  543272936   \n",
       "308            electronics.smartphone     apple   642.69  551377651   \n",
       "379                               NaN    xiaomi    29.51  514591159   \n",
       "442         furniture.bathroom.toilet   santeri    54.42  555332717   \n",
       "574       electronics.audio.headphone     apple   189.91  524601178   \n",
       "...                               ...       ...      ...        ...   \n",
       "42448148                          NaN       NaN   102.45  516604399   \n",
       "42448173     construction.tools.light  puckator    20.59  514622109   \n",
       "42448271       electronics.smartphone     apple   577.89  512717356   \n",
       "42448362       electronics.smartphone     apple  1054.60  533892594   \n",
       "42448657  electronics.audio.headphone     apple   160.57  544501248   \n",
       "\n",
       "                                  user_session  \n",
       "162       8187d148-3c41-46d4-b0c0-9c08cd9dc564  \n",
       "308       3c80f0d6-e9ec-4181-8c5c-837a30be2d68  \n",
       "379       0e5dfc4b-2a55-43e6-8c05-97e1f07fbb56  \n",
       "442       1dea3ee2-2ded-42e8-8e7a-4e2ad6ae942f  \n",
       "574       2af9b570-0942-4dcd-8f25-4d84fba82553  \n",
       "...                                        ...  \n",
       "42448148  a98bd433-57ac-42d0-ba81-e18b135a7a16  \n",
       "42448173  5724116e-365b-4ac1-9d03-b8d66e1ccc7c  \n",
       "42448271  f35ac37c-9573-4e30-b3d9-c09bb0b95a2b  \n",
       "42448362  3a5a3b01-2ab1-4a1d-a202-30d336e0057b  \n",
       "42448657  e330d051-37ad-4dc3-b1ee-ff16a28b7998  \n",
       "\n",
       "[742849 rows x 9 columns]"
      ]
     },
     "execution_count": 5,
     "metadata": {},
     "output_type": "execute_result"
    }
   ],
   "source": [
    "#looking at only the cases where purchases were made\n",
    "purchases = df_oct[df_oct.event_type.eq('purchase')]\n",
    "purchases"
   ]
  },
  {
   "cell_type": "code",
   "execution_count": 9,
   "metadata": {},
   "outputs": [],
   "source": [
    "top_brands = purchases.groupby('brand')['price'].sum()\n",
    "top_brands = top_brands.sort_values(ascending= False)\n",
    "top_brands = top_brands[:100]"
   ]
  },
  {
   "cell_type": "code",
   "execution_count": 10,
   "metadata": {},
   "outputs": [
    {
     "data": {
      "text/plain": [
       "Index(['apple', 'samsung', 'xiaomi', 'huawei', 'acer', 'lg', 'lucente', 'sony',\n",
       "       'oppo', 'lenovo', 'indesit', 'bosch', 'hp', 'artel', 'asus', 'beko',\n",
       "       'haier', 'dauscher', 'canon', 'cordiant', 'philips', 'vivo', 'kivi',\n",
       "       'navien', 'nokian', 'oneplus', 'omabelle', 'janome', 'tefal', 'midea',\n",
       "       'epson', 'pulser', 'triangle', 'force', 'stels', 'starline', 'redmond',\n",
       "       'elenberg', 'karcher', 'sv', 'atlant', 'yokohama', 'hansa', 'casio',\n",
       "       'hubert', 'peda', 'meizu', 'bts', 'tcl', 'ariston', 'pioneer', 'skad',\n",
       "       'brw', 'msi', 'lider', 'vitek', 'huter', 'nokia', 'sokolov', 'garmin',\n",
       "       'jbl', 'dell', 'honor', 'yasin', 'yamaha', 'respect', 'electrolux',\n",
       "       'braun', 'thomas', 'nikon', 'delonghi', 'dji', 'michelin', 'kenwood',\n",
       "       'panasonic', 'arg', 'polaris', 'goodyear', 'bridgestone', 'sho-me',\n",
       "       'rowenta', 'matador', 'viatti', 'tissot', 'candy', 'netechnics',\n",
       "       'kipardo', 'rinnai', 'neoline', 'omron', 'genau', 'rals', 'fly',\n",
       "       'microsoft', 'gigabyte', 'dewalt', 'gefest', 'belecoo', 'gorenje',\n",
       "       'vegas'],\n",
       "      dtype='object', name='brand')"
      ]
     },
     "execution_count": 10,
     "metadata": {},
     "output_type": "execute_result"
    }
   ],
   "source": [
    "top_brands.keys()"
   ]
  },
  {
   "cell_type": "code",
   "execution_count": 11,
   "metadata": {},
   "outputs": [
    {
     "data": {
      "text/plain": [
       "(26931624, 9)"
      ]
     },
     "execution_count": 11,
     "metadata": {},
     "output_type": "execute_result"
    }
   ],
   "source": [
    "octdf = df_oct[df_oct.brand.isin(top_brands.keys())]\n",
    "octdf.shape"
   ]
  },
  {
   "cell_type": "code",
   "execution_count": 12,
   "metadata": {},
   "outputs": [
    {
     "data": {
      "text/plain": [
       "event_time             0\n",
       "event_type             0\n",
       "product_id             0\n",
       "category_id            0\n",
       "category_code    5480514\n",
       "brand                  0\n",
       "price                  0\n",
       "user_id                0\n",
       "user_session           2\n",
       "dtype: int64"
      ]
     },
     "execution_count": 12,
     "metadata": {},
     "output_type": "execute_result"
    }
   ],
   "source": [
    "octdf.isnull().sum()"
   ]
  },
  {
   "cell_type": "code",
   "execution_count": null,
   "metadata": {},
   "outputs": [],
   "source": []
  },
  {
   "cell_type": "code",
   "execution_count": 14,
   "metadata": {},
   "outputs": [
    {
     "data": {
      "text/plain": [
       "brand\n",
       "acer        2.586429e+08\n",
       "apple       3.430705e+09\n",
       "arg         5.372459e+06\n",
       "ariston     1.067527e+07\n",
       "artel       5.839610e+07\n",
       "                ...     \n",
       "vivo        2.985740e+07\n",
       "xiaomi      6.181664e+08\n",
       "yamaha      1.719024e+07\n",
       "yasin       1.068144e+07\n",
       "yokohama    9.853809e+06\n",
       "Name: price, Length: 100, dtype: float64"
      ]
     },
     "execution_count": 14,
     "metadata": {},
     "output_type": "execute_result"
    }
   ],
   "source": [
    "octdf.groupby('brand')['price'].sum()"
   ]
  },
  {
   "cell_type": "code",
   "execution_count": 15,
   "metadata": {},
   "outputs": [],
   "source": [
    "df_oct1 = octdf"
   ]
  },
  {
   "cell_type": "code",
   "execution_count": 16,
   "metadata": {},
   "outputs": [],
   "source": [
    "def fast_mode(df, key_cols, value_col):\n",
    "\n",
    "    return (df.groupby(key_cols + [value_col]).size() \n",
    "                  .to_frame('counts').reset_index() \n",
    "                  .sort_values('counts', ascending=False) \n",
    "                  .drop_duplicates(subset=key_cols)).drop(columns='counts')"
   ]
  },
  {
   "cell_type": "code",
   "execution_count": 17,
   "metadata": {},
   "outputs": [
    {
     "name": "stderr",
     "output_type": "stream",
     "text": [
      "C:\\Users\\nikhi\\Anaconda3\\lib\\site-packages\\pandas\\core\\indexing.py:494: SettingWithCopyWarning: \n",
      "A value is trying to be set on a copy of a slice from a DataFrame.\n",
      "Try using .loc[row_indexer,col_indexer] = value instead\n",
      "\n",
      "See the caveats in the documentation: http://pandas.pydata.org/pandas-docs/stable/user_guide/indexing.html#returning-a-view-versus-a-copy\n",
      "  self.obj[item] = s\n"
     ]
    }
   ],
   "source": [
    "df_oct1.loc[df_oct1.category_code.isnull(), 'category_code'] = df_oct1.brand.map(fast_mode(df_oct1, ['brand'], 'category_code').set_index('brand').category_code)"
   ]
  },
  {
   "cell_type": "code",
   "execution_count": 18,
   "metadata": {},
   "outputs": [
    {
     "data": {
      "text/plain": [
       "event_time             0\n",
       "event_type             0\n",
       "product_id             0\n",
       "category_id            0\n",
       "category_code    2120735\n",
       "brand                  0\n",
       "price                  0\n",
       "user_id                0\n",
       "user_session           2\n",
       "dtype: int64"
      ]
     },
     "execution_count": 18,
     "metadata": {},
     "output_type": "execute_result"
    }
   ],
   "source": [
    "df_oct1.isnull().sum()"
   ]
  },
  {
   "cell_type": "code",
   "execution_count": 19,
   "metadata": {},
   "outputs": [],
   "source": [
    "df_oct1 = df_oct1.dropna(subset=['user_session', 'category_code'], how='any')"
   ]
  },
  {
   "cell_type": "code",
   "execution_count": 20,
   "metadata": {},
   "outputs": [
    {
     "data": {
      "text/plain": [
       "(24810887, 9)"
      ]
     },
     "execution_count": 20,
     "metadata": {},
     "output_type": "execute_result"
    }
   ],
   "source": [
    "df_oct1.shape"
   ]
  },
  {
   "cell_type": "code",
   "execution_count": 21,
   "metadata": {},
   "outputs": [
    {
     "data": {
      "text/plain": [
       "event_time       0\n",
       "event_type       0\n",
       "product_id       0\n",
       "category_id      0\n",
       "category_code    0\n",
       "brand            0\n",
       "price            0\n",
       "user_id          0\n",
       "user_session     0\n",
       "dtype: int64"
      ]
     },
     "execution_count": 21,
     "metadata": {},
     "output_type": "execute_result"
    }
   ],
   "source": [
    "df_oct1.isna().sum()"
   ]
  },
  {
   "cell_type": "code",
   "execution_count": null,
   "metadata": {},
   "outputs": [],
   "source": [
    "#Remove rows where both the columns are NA\n",
    "#df_oct1 = df_oct.dropna(subset=['brand', 'category_code'], how='all')\n",
    "#df.dropna(subset=['EPS'], how='all', inplace=True)"
   ]
  },
  {
   "cell_type": "code",
   "execution_count": 22,
   "metadata": {},
   "outputs": [],
   "source": [
    "#Remove before saving \n",
    "#df_oct2 = df_oct1.iloc[:20000000, :]"
   ]
  },
  {
   "cell_type": "code",
   "execution_count": 23,
   "metadata": {},
   "outputs": [],
   "source": [
    "#df_oct2.head()"
   ]
  },
  {
   "cell_type": "code",
   "execution_count": 24,
   "metadata": {},
   "outputs": [],
   "source": [
    "df_oct1.to_csv('2019_Oct_Sales.csv')"
   ]
  },
  {
   "cell_type": "code",
   "execution_count": null,
   "metadata": {},
   "outputs": [],
   "source": []
  }
 ],
 "metadata": {
  "kernelspec": {
   "display_name": "Python 3",
   "language": "python",
   "name": "python3"
  },
  "language_info": {
   "codemirror_mode": {
    "name": "ipython",
    "version": 3
   },
   "file_extension": ".py",
   "mimetype": "text/x-python",
   "name": "python",
   "nbconvert_exporter": "python",
   "pygments_lexer": "ipython3",
   "version": "3.6.5"
  }
 },
 "nbformat": 4,
 "nbformat_minor": 2
}
